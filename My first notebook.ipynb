{
 "cells": [
  {
   "cell_type": "markdown",
   "metadata": {},
   "source": [
    "# My Jupyter Notebook on X"
   ]
  },
  {
   "cell_type": "markdown",
   "metadata": {},
   "source": [
    "My name is Rémi!\n",
    "\n",
    "\n",
    "i would like to become a pharmacist"
   ]
  },
  {
   "cell_type": "markdown",
   "metadata": {},
   "source": [
    "I'm interested in data science because i think it would be fascinating to combine both my knowledge in pharmacy with some data science knowledge"
   ]
  },
  {
   "cell_type": "markdown",
   "metadata": {},
   "source": [
    "In the next cell, i will try to do a simple math addition."
   ]
  },
  {
   "cell_type": "code",
   "execution_count": 15,
   "metadata": {},
   "outputs": [
    {
     "name": "stdout",
     "output_type": "stream",
     "text": [
      "Welcome to my calculator\n",
      "Substraction is:  300.0\n"
     ]
    }
   ],
   "source": [
    "print(\"Welcome to my calculator\")\n",
    "operation=float(input(\"what operation do you want to perform?\\n 1.Addition\\n 2.Substraction\\n 3.Multiplication\\n 4.Division\"))\n",
    "num1=float(input(\"Enter first number: \"))\n",
    "num2=float(input(\"Enter second number: \"))\n",
    "if(operation==1):\n",
    "    print(\"Addition is: \" ,str(num1+num2))\n",
    "elif(operation==2):\n",
    "    print(\"Substraction is: \" ,str(num1-num2))\n",
    "elif(operation==3):\n",
    "    print(\"Multiplication is: \" ,str(num1*num2))\n",
    "elif(operation==4):\n",
    "    print(\"Division: \" ,str(num1/num2))"
   ]
  },
  {
   "cell_type": "markdown",
   "metadata": {},
   "source": [
    "Hope you liked it"
   ]
  }
 ],
 "metadata": {
  "interpreter": {
   "hash": "58101d00d4210f3ce81e3a57198bf3c82002d083157ab52cb892ef4860695b24"
  },
  "kernelspec": {
   "display_name": "Python 3.9.7 64-bit ('base': conda)",
   "language": "python",
   "name": "python3"
  },
  "language_info": {
   "codemirror_mode": {
    "name": "ipython",
    "version": 3
   },
   "file_extension": ".py",
   "mimetype": "text/x-python",
   "name": "python",
   "nbconvert_exporter": "python",
   "pygments_lexer": "ipython3",
   "version": "3.9.7"
  },
  "orig_nbformat": 4
 },
 "nbformat": 4,
 "nbformat_minor": 2
}
